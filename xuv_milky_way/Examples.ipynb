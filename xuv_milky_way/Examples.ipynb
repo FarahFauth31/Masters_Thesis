{
 "cells": [
  {
   "cell_type": "markdown",
   "metadata": {},
   "source": [
    "# Examples"
   ]
  },
  {
   "cell_type": "markdown",
   "metadata": {},
   "source": [
    "### Rotation period calculation"
   ]
  },
  {
   "cell_type": "code",
   "execution_count": null,
   "metadata": {},
   "outputs": [],
   "source": [
    "from xuv_milky_way import prot\n",
    "\n",
    "Proti_file_directory=\"/Documents/Project/Data/hPer_Data.csv\"\n",
    "RA_steps=(0,8,4)\n",
    "DEC_steps=(-90,90,4)\n",
    "GUMS_file_directory=\"/Documents/Star_coordinates/Target_data/\"\n",
    "results=prot.calculate_prot(Proti_file_directory, RA_steps, DEC_steps, GUMS_file_directory)"
   ]
  },
  {
   "cell_type": "markdown",
   "metadata": {},
   "source": [
    "### Xray emission calculation"
   ]
  },
  {
   "cell_type": "code",
   "execution_count": null,
   "metadata": {},
   "outputs": [],
   "source": [
    "from xuv_milky_way import xray\n",
    "\n",
    "RA_steps=(0,4,4)\n",
    "DEC_steps=(-90,-86,4)\n",
    "GUMS_file_path=\"/media/farah/T7 Shield/Star_coordinates/Target_data/RA_0_4_DEC_-90_-86/\"\n",
    "results=xray.calculate_xray(RA_steps, DEC_steps, GUMS_file_path)"
   ]
  },
  {
   "cell_type": "markdown",
   "metadata": {},
   "source": [
    "### EUV spectra assignment"
   ]
  },
  {
   "cell_type": "code",
   "execution_count": null,
   "metadata": {},
   "outputs": [],
   "source": [
    "from xuv_milky_way import euv\n",
    "\n",
    "star_data_file_path=\"/media/farah/T7 Shield/Star_coordinates/Target_data/RA_0_4_DEC_-90_-86/RA_0_4_DEC_-90_-86_target.csv_Part1\"\n",
    "IDL_file_path=\"/home/farah/Documents/Project/Data/EUV/woodspec_GS_0.05aa_erg.sav\"\n",
    "n_star=1\n",
    "matrix, wavelength, idx, index1, index2, Lx = euv.which_spectra(star_data_file_path, IDL_file_path, n_star)\n",
    "xray_w, new_y, y = euv.norm_spectra(matrix, wavelength, idx, index1, index2, Lx)\n",
    "euv.plot_spectra(xray_w, new_y, y)"
   ]
  }
 ],
 "metadata": {
  "kernelspec": {
   "display_name": "Python 3 (ipykernel)",
   "language": "python",
   "name": "python3"
  },
  "language_info": {
   "codemirror_mode": {
    "name": "ipython",
    "version": 3
   },
   "file_extension": ".py",
   "mimetype": "text/x-python",
   "name": "python",
   "nbconvert_exporter": "python",
   "pygments_lexer": "ipython3",
   "version": "3.10.6"
  },
  "vscode": {
   "interpreter": {
    "hash": "916dbcbb3f70747c44a77c7bcd40155683ae19c65e1c03b4aa3499c5328201f1"
   }
  }
 },
 "nbformat": 4,
 "nbformat_minor": 2
}
