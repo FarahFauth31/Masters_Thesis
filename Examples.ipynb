{
 "cells": [
  {
   "cell_type": "markdown",
   "metadata": {},
   "source": [
    "# Examples"
   ]
  },
  {
   "cell_type": "markdown",
   "metadata": {},
   "source": [
    "### Rotation period calculation"
   ]
  },
  {
   "cell_type": "code",
   "execution_count": null,
   "metadata": {},
   "outputs": [],
   "source": [
    "from xuv_milky_way import prot\n",
    "\n",
    "Proti_file_directory=\"/Github/Masters_Thesis/Proti_test_data.csv\"\n",
    "GUMS_file_directory=\"/Github/Masters_Thesis/GUMS_test_data.csv\"\n",
    "results=prot.calculate_prot(Proti_file_directory, GUMS_file_directory)"
   ]
  },
  {
   "cell_type": "markdown",
   "metadata": {},
   "source": [
    "### Xray emission calculation"
   ]
  },
  {
   "cell_type": "code",
   "execution_count": null,
   "metadata": {},
   "outputs": [],
   "source": [
    "from xuv_milky_way import xray\n",
    "\n",
    "GUMS_file_path=\"/Github/Masters_Thesis/GUMS_test_data.csv\"\n",
    "results=xray.calculate_xray(GUMS_file_path)"
   ]
  },
  {
   "cell_type": "markdown",
   "metadata": {},
   "source": [
    "### EUV spectra assignment"
   ]
  },
  {
   "cell_type": "code",
   "execution_count": null,
   "metadata": {},
   "outputs": [],
   "source": [
    "from xuv_milky_way import euv\n",
    "\n",
    "GUMS_file_path=\"/home/farah/Documents/Github/Masters_Thesis/GUMS_test_data.csv\"\n",
    "IDL_file_path=\"/home/farah/Documents/Github/Masters_Thesis/IDL_test_data.sav\"\n",
    "n_star=2\n",
    "matrix, wavelength, IDX, index1, index2, LX = euv.which_spectra(GUMS_file_path, IDL_file_path, n_star)\n",
    "xray_w, NEW_Y, Y = euv.norm_spectra(matrix, wavelength, IDX, index1, index2, LX, n_star)\n",
    "euv.plot_spectra(xray_w, NEW_Y, Y, n_star)"
   ]
  }
 ],
 "metadata": {
  "kernelspec": {
   "display_name": "Python 3 (ipykernel)",
   "language": "python",
   "name": "python3"
  },
  "language_info": {
   "codemirror_mode": {
    "name": "ipython",
    "version": 3
   },
   "file_extension": ".py",
   "mimetype": "text/x-python",
   "name": "python",
   "nbconvert_exporter": "python",
   "pygments_lexer": "ipython3",
   "version": "3.10.6"
  },
  "vscode": {
   "interpreter": {
    "hash": "916dbcbb3f70747c44a77c7bcd40155683ae19c65e1c03b4aa3499c5328201f1"
   }
  }
 },
 "nbformat": 4,
 "nbformat_minor": 2
}
